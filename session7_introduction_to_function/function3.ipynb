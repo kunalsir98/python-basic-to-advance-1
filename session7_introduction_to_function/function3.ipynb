{
  "cells": [
    {
      "cell_type": "code",
      "execution_count": null,
      "id": "65ac245e-663b-4f71-89cb-95ce98d24f5e",
      "metadata": {
        "id": "65ac245e-663b-4f71-89cb-95ce98d24f5e"
      },
      "outputs": [],
      "source": [
        "def test1(func) :\n",
        "    def test2():\n",
        "\n",
        "        print(\"i am inside test2 \" )\n",
        "        func()\n",
        "        print(func())\n",
        "\n",
        "        print(\"functino executed \")\n",
        "        return func()\n",
        "    return test2"
      ]
    },
    {
      "cell_type": "code",
      "execution_count": null,
      "id": "6b975598-a278-40b0-8ba0-5016bfadefa8",
      "metadata": {
        "id": "6b975598-a278-40b0-8ba0-5016bfadefa8"
      },
      "outputs": [],
      "source": [
        "@test1\n",
        "def test3():\n",
        "    print(\"this is my test3\")"
      ]
    },
    {
      "cell_type": "code",
      "execution_count": null,
      "id": "2a018f9f-dc0d-4150-9ae9-5d4b372739b4",
      "metadata": {
        "id": "2a018f9f-dc0d-4150-9ae9-5d4b372739b4",
        "outputId": "310f387e-3796-498d-81ae-df12a43ce8b6"
      },
      "outputs": [
        {
          "name": "stdout",
          "output_type": "stream",
          "text": [
            "i am inside test2 \n",
            "this is my test3\n",
            "this is my test3\n",
            "None\n",
            "functino executed \n",
            "this is my test3\n"
          ]
        }
      ],
      "source": [
        "test3()"
      ]
    },
    {
      "cell_type": "code",
      "execution_count": null,
      "id": "105e0432-5083-42da-a480-da7cdaa18b8a",
      "metadata": {
        "id": "105e0432-5083-42da-a480-da7cdaa18b8a",
        "outputId": "efbf9e03-5293-487c-d3cb-454a64558376"
      },
      "outputs": [
        {
          "name": "stdout",
          "output_type": "stream",
          "text": [
            "i am inside test2 \n",
            "this is my test3\n",
            "this is my test3\n",
            "None\n",
            "functino executed \n"
          ]
        },
        {
          "data": {
            "text/plain": [
              "<function __main__.test1.<locals>.test2()>"
            ]
          },
          "execution_count": 16,
          "metadata": {},
          "output_type": "execute_result"
        }
      ],
      "source": [
        "test1(test3())"
      ]
    },
    {
      "cell_type": "code",
      "execution_count": null,
      "id": "f47de6cc-576d-4b30-a38c-ae29b09f091a",
      "metadata": {
        "id": "f47de6cc-576d-4b30-a38c-ae29b09f091a"
      },
      "outputs": [],
      "source": [
        "@test1\n",
        "def test4():\n",
        "    return 5+6"
      ]
    },
    {
      "cell_type": "code",
      "execution_count": null,
      "id": "b8479dfc-232b-475c-8bda-d77c27e94dc5",
      "metadata": {
        "id": "b8479dfc-232b-475c-8bda-d77c27e94dc5",
        "outputId": "0447a220-6539-42e6-a4b2-ccef8a129a55"
      },
      "outputs": [
        {
          "name": "stdout",
          "output_type": "stream",
          "text": [
            "i am inside test2 \n",
            "11\n",
            "functino executed \n"
          ]
        },
        {
          "data": {
            "text/plain": [
              "11"
            ]
          },
          "execution_count": 35,
          "metadata": {},
          "output_type": "execute_result"
        }
      ],
      "source": [
        "test4()"
      ]
    },
    {
      "cell_type": "code",
      "execution_count": null,
      "id": "d6cdf34c-9090-40da-96bf-cbc169edb529",
      "metadata": {
        "id": "d6cdf34c-9090-40da-96bf-cbc169edb529",
        "outputId": "b6c3dedf-7cfe-4b73-ec8f-9a8a0e0080cb"
      },
      "outputs": [
        {
          "name": "stdout",
          "output_type": "stream",
          "text": [
            "i am inside test2 \n",
            "11\n",
            "functino executed \n"
          ]
        },
        {
          "data": {
            "text/plain": [
              "int"
            ]
          },
          "execution_count": 36,
          "metadata": {},
          "output_type": "execute_result"
        }
      ],
      "source": [
        "type(test4())"
      ]
    },
    {
      "cell_type": "code",
      "execution_count": null,
      "id": "480a2e60-7172-499e-81d3-1533b710bfb2",
      "metadata": {
        "id": "480a2e60-7172-499e-81d3-1533b710bfb2",
        "outputId": "2b7cb23b-c1fe-496f-9a9f-8e9f331b4c36"
      },
      "outputs": [
        {
          "name": "stdout",
          "output_type": "stream",
          "text": [
            "i am inside test2 \n",
            "11\n",
            "functino executed \n"
          ]
        },
        {
          "data": {
            "text/plain": [
              "67"
            ]
          },
          "execution_count": 37,
          "metadata": {},
          "output_type": "execute_result"
        }
      ],
      "source": [
        "test4() + 56"
      ]
    },
    {
      "cell_type": "code",
      "execution_count": null,
      "id": "1ef8ae01-77d3-4a3d-b481-289804ff467a",
      "metadata": {
        "id": "1ef8ae01-77d3-4a3d-b481-289804ff467a",
        "outputId": "caf5a04b-fcbb-4a80-9910-a4519293d391"
      },
      "outputs": [
        {
          "name": "stdout",
          "output_type": "stream",
          "text": [
            "None\n"
          ]
        }
      ],
      "source": [
        "print(a)"
      ]
    },
    {
      "cell_type": "code",
      "execution_count": null,
      "id": "915c9da5-966c-4007-8f72-aa1a39b61e49",
      "metadata": {
        "id": "915c9da5-966c-4007-8f72-aa1a39b61e49",
        "outputId": "7bf61439-d30a-4e4f-c1c1-4318fecdf59f"
      },
      "outputs": [
        {
          "name": "stdout",
          "output_type": "stream",
          "text": [
            "i am inside test2 \n",
            "11\n",
            "functino executed \n"
          ]
        },
        {
          "ename": "TypeError",
          "evalue": "unsupported operand type(s) for +: 'NoneType' and 'int'",
          "output_type": "error",
          "traceback": [
            "\u001b[0;31m---------------------------------------------------------------------------\u001b[0m",
            "\u001b[0;31mTypeError\u001b[0m                                 Traceback (most recent call last)",
            "Cell \u001b[0;32mIn [23], line 1\u001b[0m\n\u001b[0;32m----> 1\u001b[0m \u001b[43mtest4\u001b[49m\u001b[43m(\u001b[49m\u001b[43m)\u001b[49m\u001b[43m \u001b[49m\u001b[38;5;241;43m+\u001b[39;49m\u001b[43m \u001b[49m\u001b[38;5;241;43m12\u001b[39;49m\n",
            "\u001b[0;31mTypeError\u001b[0m: unsupported operand type(s) for +: 'NoneType' and 'int'"
          ]
        }
      ],
      "source": [
        "test4() + 12"
      ]
    },
    {
      "cell_type": "code",
      "execution_count": null,
      "id": "05bdf874-8bbb-4a60-9c4a-54957cf58fc9",
      "metadata": {
        "id": "05bdf874-8bbb-4a60-9c4a-54957cf58fc9"
      },
      "outputs": [],
      "source": [
        "def test5():\n",
        "    return 4+5"
      ]
    },
    {
      "cell_type": "code",
      "execution_count": null,
      "id": "9900a1db-8195-4af0-9828-69273e4693c8",
      "metadata": {
        "id": "9900a1db-8195-4af0-9828-69273e4693c8",
        "outputId": "6a86df17-d19f-4fe0-8e23-fe595b1f9e5f"
      },
      "outputs": [
        {
          "data": {
            "text/plain": [
              "int"
            ]
          },
          "execution_count": 27,
          "metadata": {},
          "output_type": "execute_result"
        }
      ],
      "source": [
        "type(test5())"
      ]
    },
    {
      "cell_type": "code",
      "execution_count": null,
      "id": "86c8631c-9476-47db-9b44-dfe75085c8a3",
      "metadata": {
        "id": "86c8631c-9476-47db-9b44-dfe75085c8a3",
        "outputId": "176444f0-6244-42a0-c50e-001cdc6b459d"
      },
      "outputs": [
        {
          "data": {
            "text/plain": [
              "54"
            ]
          },
          "execution_count": 28,
          "metadata": {},
          "output_type": "execute_result"
        }
      ],
      "source": [
        "test5() + 45"
      ]
    },
    {
      "cell_type": "code",
      "execution_count": null,
      "id": "73b4f551-396e-4da8-a2da-a7c4d28756d0",
      "metadata": {
        "id": "73b4f551-396e-4da8-a2da-a7c4d28756d0"
      },
      "outputs": [],
      "source": [
        "def test6(func) :\n",
        "    def test7():\n",
        "        func()\n",
        "        print(func())\n",
        "        print(\"this is my decorator functinon\")\n",
        "        return func()\n",
        "    return test7"
      ]
    },
    {
      "cell_type": "code",
      "execution_count": null,
      "id": "41fee7ee-45dd-488b-8112-be1197b06742",
      "metadata": {
        "id": "41fee7ee-45dd-488b-8112-be1197b06742"
      },
      "outputs": [],
      "source": [
        "def test8():\n",
        "    return 5+ 7"
      ]
    },
    {
      "cell_type": "code",
      "execution_count": null,
      "id": "8cdbe557-cf62-4a34-9ec4-28bd1478bf23",
      "metadata": {
        "id": "8cdbe557-cf62-4a34-9ec4-28bd1478bf23",
        "outputId": "e5182849-e4e1-4204-f1a2-e00e3ab92538"
      },
      "outputs": [
        {
          "data": {
            "text/plain": [
              "24"
            ]
          },
          "execution_count": 41,
          "metadata": {},
          "output_type": "execute_result"
        }
      ],
      "source": [
        "test8() + 12"
      ]
    },
    {
      "cell_type": "code",
      "execution_count": null,
      "id": "9e5ac5d1-4867-46a5-b5e2-a9cea02bbf34",
      "metadata": {
        "id": "9e5ac5d1-4867-46a5-b5e2-a9cea02bbf34"
      },
      "outputs": [],
      "source": [
        "@test6\n",
        "def test8():\n",
        "    return 5+ 7"
      ]
    },
    {
      "cell_type": "code",
      "execution_count": null,
      "id": "d52498fc-3348-40d3-8da5-c75aa1f09c48",
      "metadata": {
        "id": "d52498fc-3348-40d3-8da5-c75aa1f09c48",
        "outputId": "11619206-b686-40cb-fd37-0fe7a639b7ea"
      },
      "outputs": [
        {
          "name": "stdout",
          "output_type": "stream",
          "text": [
            "12\n",
            "this is my decorator functinon\n"
          ]
        },
        {
          "data": {
            "text/plain": [
              "12"
            ]
          },
          "execution_count": 51,
          "metadata": {},
          "output_type": "execute_result"
        }
      ],
      "source": [
        "test8()"
      ]
    },
    {
      "cell_type": "code",
      "execution_count": null,
      "id": "ea68e84c-5fc3-462d-9d03-708012799863",
      "metadata": {
        "id": "ea68e84c-5fc3-462d-9d03-708012799863",
        "outputId": "32aeea7c-20fb-410c-fa4d-a9d58add6b11"
      },
      "outputs": [
        {
          "name": "stdout",
          "output_type": "stream",
          "text": [
            "12\n",
            "this is my decorator functinon\n"
          ]
        },
        {
          "data": {
            "text/plain": [
              "112"
            ]
          },
          "execution_count": 52,
          "metadata": {},
          "output_type": "execute_result"
        }
      ],
      "source": [
        "test8() + 100"
      ]
    },
    {
      "cell_type": "code",
      "execution_count": null,
      "id": "fe72c45e-0ea7-4fc7-acf2-5ef4e09d54f1",
      "metadata": {
        "id": "fe72c45e-0ea7-4fc7-acf2-5ef4e09d54f1",
        "outputId": "c17fbe8e-96fc-4a83-e893-dafd7f6491ad"
      },
      "outputs": [
        {
          "name": "stdout",
          "output_type": "stream",
          "text": [
            "12\n",
            "this is my decorator functinon\n"
          ]
        },
        {
          "data": {
            "text/plain": [
              "int"
            ]
          },
          "execution_count": 53,
          "metadata": {},
          "output_type": "execute_result"
        }
      ],
      "source": [
        "type(test8())"
      ]
    },
    {
      "cell_type": "code",
      "execution_count": null,
      "id": "2f4fd4c7-a3b0-4267-87f3-a1d5687f75ce",
      "metadata": {
        "id": "2f4fd4c7-a3b0-4267-87f3-a1d5687f75ce"
      },
      "outputs": [],
      "source": [
        "def test6(func) :\n",
        "    def test7(*args,**kwargs):\n",
        "        func(*args,**kwargs)\n",
        "        print(func(*args,**kwargs))\n",
        "        print(\"this is my decorator functinon\")\n",
        "        return func(*args,**kwargs)\n",
        "    return test7"
      ]
    },
    {
      "cell_type": "code",
      "execution_count": null,
      "id": "f31aba1a-e703-48fa-b6c1-2419aefd2fd0",
      "metadata": {
        "id": "f31aba1a-e703-48fa-b6c1-2419aefd2fd0"
      },
      "outputs": [],
      "source": [
        "@test6\n",
        "def test8(a,b):\n",
        "    return a+b"
      ]
    },
    {
      "cell_type": "code",
      "execution_count": null,
      "id": "3bca9165-1a41-488e-9ace-f0b18652eb5e",
      "metadata": {
        "id": "3bca9165-1a41-488e-9ace-f0b18652eb5e",
        "outputId": "8e2e3ed9-a653-40be-92f6-89b30529d4db"
      },
      "outputs": [
        {
          "name": "stdout",
          "output_type": "stream",
          "text": [
            "sudhkumar\n",
            "this is my decorator functinon\n"
          ]
        },
        {
          "data": {
            "text/plain": [
              "'sudhkumar'"
            ]
          },
          "execution_count": 96,
          "metadata": {},
          "output_type": "execute_result"
        }
      ],
      "source": [
        "test8(\"sudh\" , \"kumar\")"
      ]
    },
    {
      "cell_type": "code",
      "execution_count": null,
      "id": "3920463a-fd88-46e8-a026-d80db5d3dae8",
      "metadata": {
        "id": "3920463a-fd88-46e8-a026-d80db5d3dae8"
      },
      "outputs": [],
      "source": [
        "@test6\n",
        "def test9(**kwargs):\n",
        "    return kwargs"
      ]
    },
    {
      "cell_type": "code",
      "execution_count": null,
      "id": "763a5b45-da57-4e3c-9c62-fe9068cd378d",
      "metadata": {
        "id": "763a5b45-da57-4e3c-9c62-fe9068cd378d",
        "outputId": "34f2f11e-1cac-4698-8899-0264da6ce3ed"
      },
      "outputs": [
        {
          "name": "stdout",
          "output_type": "stream",
          "text": [
            "{'a': 89, 'b': 67}\n",
            "this is my decorator functinon\n"
          ]
        },
        {
          "data": {
            "text/plain": [
              "{'a': 89, 'b': 67}"
            ]
          },
          "execution_count": 100,
          "metadata": {},
          "output_type": "execute_result"
        }
      ],
      "source": [
        "test9(a= 89 , b = 67)"
      ]
    },
    {
      "cell_type": "code",
      "execution_count": null,
      "id": "35461408-d4db-4cd9-9921-d5c718aab538",
      "metadata": {
        "id": "35461408-d4db-4cd9-9921-d5c718aab538"
      },
      "outputs": [],
      "source": [
        "def test10(a,b):\n",
        "    return a+b"
      ]
    },
    {
      "cell_type": "code",
      "execution_count": null,
      "id": "eccf3b99-b6a2-42fe-905b-77bcc7934505",
      "metadata": {
        "id": "eccf3b99-b6a2-42fe-905b-77bcc7934505",
        "outputId": "edee76d4-06b6-4ad7-de70-3e4f4cd3c28d"
      },
      "outputs": [
        {
          "data": {
            "text/plain": [
              "7"
            ]
          },
          "execution_count": 102,
          "metadata": {},
          "output_type": "execute_result"
        }
      ],
      "source": [
        "test10(3,4)"
      ]
    },
    {
      "cell_type": "code",
      "execution_count": null,
      "id": "f9a2e319-6e8f-4b60-864f-eacb1035c6f6",
      "metadata": {
        "id": "f9a2e319-6e8f-4b60-864f-eacb1035c6f6",
        "outputId": "25fb6197-bbfd-4111-fa1a-fa227ea0eb76"
      },
      "outputs": [
        {
          "data": {
            "text/plain": [
              "'sudh ineuron'"
            ]
          },
          "execution_count": 103,
          "metadata": {},
          "output_type": "execute_result"
        }
      ],
      "source": [
        "test10(\"sudh\" , \" ineuron\")"
      ]
    },
    {
      "cell_type": "code",
      "execution_count": null,
      "id": "92b8681d-6456-4a70-a89f-7c4749f4553c",
      "metadata": {
        "id": "92b8681d-6456-4a70-a89f-7c4749f4553c"
      },
      "outputs": [],
      "source": [
        "c = lambda a , b : a + b"
      ]
    },
    {
      "cell_type": "code",
      "execution_count": null,
      "id": "47a18a55-08f3-43d4-ba7e-c9bb803f9dbd",
      "metadata": {
        "id": "47a18a55-08f3-43d4-ba7e-c9bb803f9dbd",
        "outputId": "2d266470-8b65-43c6-9737-1a0a49bdc3af"
      },
      "outputs": [
        {
          "data": {
            "text/plain": [
              "<function __main__.test10(a, b)>"
            ]
          },
          "execution_count": 105,
          "metadata": {},
          "output_type": "execute_result"
        }
      ],
      "source": [
        "test10"
      ]
    },
    {
      "cell_type": "code",
      "execution_count": null,
      "id": "251ec7d8-5bc3-476b-9790-9e9a8fba48e6",
      "metadata": {
        "id": "251ec7d8-5bc3-476b-9790-9e9a8fba48e6",
        "outputId": "da01377e-e6ec-4d80-f61a-68c0c91e38a6"
      },
      "outputs": [
        {
          "data": {
            "text/plain": [
              "'sudh ineuron'"
            ]
          },
          "execution_count": 107,
          "metadata": {},
          "output_type": "execute_result"
        }
      ],
      "source": [
        "c(\"sudh\" , \" ineuron\")"
      ]
    },
    {
      "cell_type": "code",
      "execution_count": null,
      "id": "d79d3743-1da0-4588-9163-e072b2d40690",
      "metadata": {
        "id": "d79d3743-1da0-4588-9163-e072b2d40690"
      },
      "outputs": [],
      "source": [
        "d = lambda a , b ,c ,d : a*b+c/d"
      ]
    },
    {
      "cell_type": "code",
      "execution_count": null,
      "id": "a3683cdc-57f3-4929-9340-2291f66b150e",
      "metadata": {
        "id": "a3683cdc-57f3-4929-9340-2291f66b150e",
        "outputId": "2821bf17-a1a3-4882-8974-4390b3abe284"
      },
      "outputs": [
        {
          "data": {
            "text/plain": [
              "12.833333333333334"
            ]
          },
          "execution_count": 109,
          "metadata": {},
          "output_type": "execute_result"
        }
      ],
      "source": [
        "d(3,4,5,6)"
      ]
    },
    {
      "cell_type": "code",
      "execution_count": null,
      "id": "7c3326c5-500c-43ab-b01e-fd49bc31348b",
      "metadata": {
        "id": "7c3326c5-500c-43ab-b01e-fd49bc31348b"
      },
      "outputs": [],
      "source": [
        "e = lambda * args : args"
      ]
    },
    {
      "cell_type": "code",
      "execution_count": null,
      "id": "0b2d9dea-0766-400a-9357-10df57e94dac",
      "metadata": {
        "id": "0b2d9dea-0766-400a-9357-10df57e94dac",
        "outputId": "8ae6d723-4d7b-4c20-9c58-2bd55ba248cb"
      },
      "outputs": [
        {
          "data": {
            "text/plain": [
              "()"
            ]
          },
          "execution_count": 111,
          "metadata": {},
          "output_type": "execute_result"
        }
      ],
      "source": [
        "e()"
      ]
    },
    {
      "cell_type": "code",
      "execution_count": null,
      "id": "d308b6b0-3b76-4216-bd7a-7f58aa5fff0a",
      "metadata": {
        "id": "d308b6b0-3b76-4216-bd7a-7f58aa5fff0a",
        "outputId": "eec7cd69-557c-45a6-ef56-eabb39b4d69e"
      },
      "outputs": [
        {
          "data": {
            "text/plain": [
              "(3, 4, 5)"
            ]
          },
          "execution_count": 112,
          "metadata": {},
          "output_type": "execute_result"
        }
      ],
      "source": [
        "e(3,4,5)"
      ]
    },
    {
      "cell_type": "code",
      "execution_count": null,
      "id": "32d1dd17-4d5f-4906-80da-08a5012ba979",
      "metadata": {
        "id": "32d1dd17-4d5f-4906-80da-08a5012ba979"
      },
      "outputs": [],
      "source": [
        "#map()"
      ]
    },
    {
      "cell_type": "code",
      "execution_count": null,
      "id": "b7302810-82ff-42cf-b571-0c8012d53a37",
      "metadata": {
        "id": "b7302810-82ff-42cf-b571-0c8012d53a37"
      },
      "outputs": [],
      "source": [
        "l = [1,2,3,4,5,6,7]\n",
        "l1  = []\n",
        "for i in l :\n",
        "    l1.append(i+10)\n",
        ""
      ]
    },
    {
      "cell_type": "code",
      "execution_count": null,
      "id": "c0e10bfc-963d-47ee-9a4f-870d3bf18962",
      "metadata": {
        "id": "c0e10bfc-963d-47ee-9a4f-870d3bf18962",
        "outputId": "adf43a95-5c84-4f36-d25f-0e960fd15ad3"
      },
      "outputs": [
        {
          "data": {
            "text/plain": [
              "[11, 12, 13, 14, 15, 16, 17]"
            ]
          },
          "execution_count": 117,
          "metadata": {},
          "output_type": "execute_result"
        }
      ],
      "source": [
        "l1"
      ]
    },
    {
      "cell_type": "code",
      "execution_count": null,
      "id": "2b1935fe-a9cf-4932-a390-8a2f74c79544",
      "metadata": {
        "id": "2b1935fe-a9cf-4932-a390-8a2f74c79544"
      },
      "outputs": [],
      "source": [
        "def test14(a):\n",
        "    return a + 10"
      ]
    },
    {
      "cell_type": "code",
      "execution_count": null,
      "id": "3b02b3b6-db49-4e53-a0ae-cfeb84c0ddf3",
      "metadata": {
        "id": "3b02b3b6-db49-4e53-a0ae-cfeb84c0ddf3",
        "outputId": "f0a53086-c08c-4ac7-edec-0c864b4d01ad"
      },
      "outputs": [
        {
          "data": {
            "text/plain": [
              "[11, 12, 13, 14, 15, 16, 17]"
            ]
          },
          "execution_count": 120,
          "metadata": {},
          "output_type": "execute_result"
        }
      ],
      "source": [
        "list(map( test14,l ))"
      ]
    },
    {
      "cell_type": "code",
      "execution_count": null,
      "id": "763a608c-7126-473f-8806-3afae31e264f",
      "metadata": {
        "id": "763a608c-7126-473f-8806-3afae31e264f",
        "outputId": "4250671a-a647-4d88-af9a-88c9a6b4695c"
      },
      "outputs": [
        {
          "data": {
            "text/plain": [
              "[11, 12, 13, 14, 15, 16, 17]"
            ]
          },
          "execution_count": 121,
          "metadata": {},
          "output_type": "execute_result"
        }
      ],
      "source": [
        "list(map(lambda a : a +10  , l))"
      ]
    },
    {
      "cell_type": "code",
      "execution_count": null,
      "id": "1fe3efac-8701-428c-ae98-28cb5a076d78",
      "metadata": {
        "id": "1fe3efac-8701-428c-ae98-28cb5a076d78"
      },
      "outputs": [],
      "source": [
        "n = lambda a : a +10"
      ]
    },
    {
      "cell_type": "code",
      "execution_count": null,
      "id": "9963a0dd-1b0a-4471-8c04-f17d8a4e9dd0",
      "metadata": {
        "id": "9963a0dd-1b0a-4471-8c04-f17d8a4e9dd0",
        "outputId": "0136f78e-55f2-4850-9ef4-84744ec5d5cc"
      },
      "outputs": [
        {
          "data": {
            "text/plain": [
              "[11, 12, 13, 14, 15, 16, 17]"
            ]
          },
          "execution_count": 123,
          "metadata": {},
          "output_type": "execute_result"
        }
      ],
      "source": [
        "list(map(n, l ))"
      ]
    },
    {
      "cell_type": "code",
      "execution_count": null,
      "id": "b08ae51d-949c-4897-92ea-9a550c712f42",
      "metadata": {
        "id": "b08ae51d-949c-4897-92ea-9a550c712f42"
      },
      "outputs": [],
      "source": [
        "l = [\"sudh\" , \"kumar\" , \"ineuron\"]"
      ]
    },
    {
      "cell_type": "code",
      "execution_count": null,
      "id": "e9dff16c-41a5-4838-960f-c24ec4ac55ba",
      "metadata": {
        "id": "e9dff16c-41a5-4838-960f-c24ec4ac55ba"
      },
      "outputs": [],
      "source": [
        "l1 = []\n",
        "for i in l :\n",
        "    l1.append(i.upper())"
      ]
    },
    {
      "cell_type": "code",
      "execution_count": null,
      "id": "0f292747-2dd0-41bb-b807-c71b3a7aee16",
      "metadata": {
        "id": "0f292747-2dd0-41bb-b807-c71b3a7aee16",
        "outputId": "b7db7420-d370-426c-d4f0-8a42e358002e"
      },
      "outputs": [
        {
          "data": {
            "text/plain": [
              "['SUDH', 'KUMAR', 'INEURON']"
            ]
          },
          "execution_count": 127,
          "metadata": {},
          "output_type": "execute_result"
        }
      ],
      "source": [
        "l1"
      ]
    },
    {
      "cell_type": "code",
      "execution_count": null,
      "id": "44358dea-f419-4509-a27b-4201ddd97dc9",
      "metadata": {
        "id": "44358dea-f419-4509-a27b-4201ddd97dc9",
        "outputId": "14ac7aca-bc95-451e-f497-cc77768daf98"
      },
      "outputs": [
        {
          "data": {
            "text/plain": [
              "['SUDH', 'KUMAR', 'INEURON']"
            ]
          },
          "execution_count": 128,
          "metadata": {},
          "output_type": "execute_result"
        }
      ],
      "source": [
        "list(map(lambda a : a.upper(), l))"
      ]
    },
    {
      "cell_type": "code",
      "execution_count": null,
      "id": "6beaf9a4-5d2b-4d27-a34d-f33ea54a79de",
      "metadata": {
        "id": "6beaf9a4-5d2b-4d27-a34d-f33ea54a79de",
        "outputId": "7d8e7faf-f0fe-44d0-e1c1-4ab465b4c579"
      },
      "outputs": [
        {
          "data": {
            "text/plain": [
              "['SUDH', 'KUMAR', 'INEURON']"
            ]
          },
          "execution_count": 130,
          "metadata": {},
          "output_type": "execute_result"
        }
      ],
      "source": [
        "list(map(str.upper , l))"
      ]
    },
    {
      "cell_type": "code",
      "execution_count": null,
      "id": "dcd13f6c-2a7c-48cc-9913-9bf6e2497143",
      "metadata": {
        "id": "dcd13f6c-2a7c-48cc-9913-9bf6e2497143"
      },
      "outputs": [],
      "source": [
        "def upper_string(a) :\n",
        "    return a.upper()"
      ]
    },
    {
      "cell_type": "code",
      "execution_count": null,
      "id": "b94a9f12-5325-4531-9381-97b57c057bea",
      "metadata": {
        "id": "b94a9f12-5325-4531-9381-97b57c057bea",
        "outputId": "4146815b-2672-4374-b3c5-09ddf197c96d"
      },
      "outputs": [
        {
          "data": {
            "text/plain": [
              "['SUDH', 'KUMAR', 'INEURON']"
            ]
          },
          "execution_count": 132,
          "metadata": {},
          "output_type": "execute_result"
        }
      ],
      "source": [
        "list(map(upper_string, l))"
      ]
    },
    {
      "cell_type": "code",
      "execution_count": null,
      "id": "6b3476da-dd13-4290-9567-820febaa195f",
      "metadata": {
        "id": "6b3476da-dd13-4290-9567-820febaa195f",
        "outputId": "0205e6fb-1913-4ed9-f81a-1eb5986d09df"
      },
      "outputs": [
        {
          "data": {
            "text/plain": [
              "['sudh', 'kumar', 'ineuron']"
            ]
          },
          "execution_count": 133,
          "metadata": {},
          "output_type": "execute_result"
        }
      ],
      "source": [
        "l"
      ]
    },
    {
      "cell_type": "code",
      "execution_count": null,
      "id": "398068a8-59cc-4622-925d-64c155d5cbf7",
      "metadata": {
        "id": "398068a8-59cc-4622-925d-64c155d5cbf7",
        "outputId": "5029092d-23f2-4a29-9469-37e2c873927c"
      },
      "outputs": [
        {
          "data": {
            "text/plain": [
              "[4, 5, 7]"
            ]
          },
          "execution_count": 135,
          "metadata": {},
          "output_type": "execute_result"
        }
      ],
      "source": [
        "list(map(len,l))"
      ]
    },
    {
      "cell_type": "code",
      "execution_count": null,
      "id": "ef890f3c-3d7d-45d4-a39e-ff6688345017",
      "metadata": {
        "id": "ef890f3c-3d7d-45d4-a39e-ff6688345017",
        "outputId": "b8fc1e98-46c6-4c2c-d834-4dcb2dcaeba4"
      },
      "outputs": [
        {
          "data": {
            "text/plain": [
              "[4, 5, 7]"
            ]
          },
          "execution_count": 136,
          "metadata": {},
          "output_type": "execute_result"
        }
      ],
      "source": [
        "list(map(lambda a : len(a) , l))"
      ]
    },
    {
      "cell_type": "code",
      "execution_count": null,
      "id": "eba00bfa-5730-49cd-8816-b10f50422d15",
      "metadata": {
        "id": "eba00bfa-5730-49cd-8816-b10f50422d15"
      },
      "outputs": [],
      "source": [
        "def test23(a):\n",
        "    return len(a)"
      ]
    },
    {
      "cell_type": "code",
      "execution_count": null,
      "id": "ec20faf2-375a-428a-b1bc-f23e76d941e7",
      "metadata": {
        "id": "ec20faf2-375a-428a-b1bc-f23e76d941e7",
        "outputId": "6ceee9f0-5bcb-446e-d343-ebcb949708bc"
      },
      "outputs": [
        {
          "data": {
            "text/plain": [
              "[4, 5, 7]"
            ]
          },
          "execution_count": 138,
          "metadata": {},
          "output_type": "execute_result"
        }
      ],
      "source": [
        "list(map(test23, l))"
      ]
    },
    {
      "cell_type": "code",
      "execution_count": null,
      "id": "02465769-ad59-4c1e-958a-7197192d9fd2",
      "metadata": {
        "id": "02465769-ad59-4c1e-958a-7197192d9fd2"
      },
      "outputs": [],
      "source": [
        "l = [1,2,3,4,5,6,7,8]"
      ]
    },
    {
      "cell_type": "code",
      "execution_count": null,
      "id": "667d7399-a05d-4f84-ac33-eb51c01c7ae5",
      "metadata": {
        "id": "667d7399-a05d-4f84-ac33-eb51c01c7ae5"
      },
      "outputs": [],
      "source": [
        "l1 = []\n",
        "for i in l :\n",
        "    if i % 2 == 0 :\n",
        "        l1.append(i)"
      ]
    },
    {
      "cell_type": "code",
      "execution_count": null,
      "id": "32be9ef3-3d15-4152-bc81-b12f88d421e9",
      "metadata": {
        "id": "32be9ef3-3d15-4152-bc81-b12f88d421e9",
        "outputId": "1301bbec-8a01-4e74-87fe-eefd2a6fca67"
      },
      "outputs": [
        {
          "data": {
            "text/plain": [
              "[2, 4, 6, 8]"
            ]
          },
          "execution_count": 141,
          "metadata": {},
          "output_type": "execute_result"
        }
      ],
      "source": [
        "l1"
      ]
    },
    {
      "cell_type": "code",
      "execution_count": null,
      "id": "18e74731-8c97-48fd-800e-f657c79563ad",
      "metadata": {
        "id": "18e74731-8c97-48fd-800e-f657c79563ad",
        "outputId": "cc36a1ad-628a-4969-8780-8e204f0f5ce0"
      },
      "outputs": [
        {
          "data": {
            "text/plain": [
              "[2, 4, 6, 8]"
            ]
          },
          "execution_count": 142,
          "metadata": {},
          "output_type": "execute_result"
        }
      ],
      "source": [
        "[i for i in l if i%2 == 0 ]"
      ]
    },
    {
      "cell_type": "code",
      "execution_count": null,
      "id": "6c803d49-22a7-42a5-a18e-eccb941d437c",
      "metadata": {
        "id": "6c803d49-22a7-42a5-a18e-eccb941d437c"
      },
      "outputs": [],
      "source": [
        "def test24(a):\n",
        "    l = []\n",
        "    if type(a) == list :\n",
        "        for i in a :\n",
        "            if i%2 == 0 :\n",
        "                l.append(i)\n",
        "    return l"
      ]
    },
    {
      "cell_type": "code",
      "execution_count": null,
      "id": "93a5bed8-541e-4ca3-be8a-bfabd2f4153d",
      "metadata": {
        "id": "93a5bed8-541e-4ca3-be8a-bfabd2f4153d",
        "outputId": "379088ee-6b4a-48c7-d138-f8141b6a79c2"
      },
      "outputs": [
        {
          "data": {
            "text/plain": [
              "[2, 4, 6, 8]"
            ]
          },
          "execution_count": 144,
          "metadata": {},
          "output_type": "execute_result"
        }
      ],
      "source": [
        "test24(l)"
      ]
    },
    {
      "cell_type": "code",
      "execution_count": null,
      "id": "879b5362-4e96-4bfe-8a45-bd71f2453178",
      "metadata": {
        "id": "879b5362-4e96-4bfe-8a45-bd71f2453178"
      },
      "outputs": [],
      "source": [
        "a = lambda a :a if  a %2 == 0 else None"
      ]
    },
    {
      "cell_type": "code",
      "execution_count": null,
      "id": "d0cad1d6-eb1b-4437-9acc-7fd4165ed06b",
      "metadata": {
        "id": "d0cad1d6-eb1b-4437-9acc-7fd4165ed06b",
        "outputId": "c2055a31-ba53-4ef8-e62d-d98296716235"
      },
      "outputs": [
        {
          "data": {
            "text/plain": [
              "[None, 2, None, 4, None, 6, None, 8]"
            ]
          },
          "execution_count": 149,
          "metadata": {},
          "output_type": "execute_result"
        }
      ],
      "source": [
        "list(map(a , l))"
      ]
    },
    {
      "cell_type": "code",
      "execution_count": null,
      "id": "dde84db9-f89a-43cc-af90-5288bf7dedb3",
      "metadata": {
        "id": "dde84db9-f89a-43cc-af90-5288bf7dedb3",
        "outputId": "2bac1d61-b005-4889-cde9-1b76a6791570"
      },
      "outputs": [
        {
          "data": {
            "text/plain": [
              "[1, 2, 3, 4, 5, 6, 7, 8]"
            ]
          },
          "execution_count": 150,
          "metadata": {},
          "output_type": "execute_result"
        }
      ],
      "source": [
        "l"
      ]
    },
    {
      "cell_type": "code",
      "execution_count": null,
      "id": "6f682889-470b-4c0c-ba98-111229c91335",
      "metadata": {
        "id": "6f682889-470b-4c0c-ba98-111229c91335",
        "outputId": "7617b1a1-ee41-4990-dff3-9d328aaa97f2"
      },
      "outputs": [
        {
          "data": {
            "text/plain": [
              "[2, 4, 6, 8]"
            ]
          },
          "execution_count": 151,
          "metadata": {},
          "output_type": "execute_result"
        }
      ],
      "source": [
        "list(filter(a , l))"
      ]
    },
    {
      "cell_type": "code",
      "execution_count": null,
      "id": "0b20710b-7eed-412f-b721-d4eba8e62dca",
      "metadata": {
        "id": "0b20710b-7eed-412f-b721-d4eba8e62dca"
      },
      "outputs": [],
      "source": [
        "def test25(a):\n",
        "    if a%2 ==0 :\n",
        "        return False\n",
        "    else :\n",
        "        return True"
      ]
    },
    {
      "cell_type": "code",
      "execution_count": null,
      "id": "a38e95ae-90c2-44ca-9dc3-ad866ca8f97c",
      "metadata": {
        "id": "a38e95ae-90c2-44ca-9dc3-ad866ca8f97c",
        "outputId": "a760af7c-240c-49c1-b058-9ed82665324e"
      },
      "outputs": [
        {
          "data": {
            "text/plain": [
              "False"
            ]
          },
          "execution_count": 163,
          "metadata": {},
          "output_type": "execute_result"
        }
      ],
      "source": [
        "test25(32)"
      ]
    },
    {
      "cell_type": "code",
      "execution_count": null,
      "id": "357eef8a-6beb-4130-a641-e08135e81ed8",
      "metadata": {
        "id": "357eef8a-6beb-4130-a641-e08135e81ed8",
        "outputId": "c97ed587-a835-4e5b-dda1-0e09c87c19c8"
      },
      "outputs": [
        {
          "data": {
            "text/plain": [
              "True"
            ]
          },
          "execution_count": 164,
          "metadata": {},
          "output_type": "execute_result"
        }
      ],
      "source": [
        "test25(35)"
      ]
    },
    {
      "cell_type": "code",
      "execution_count": null,
      "id": "b1784670-4fbd-44cb-827d-1ec52a6f67a5",
      "metadata": {
        "id": "b1784670-4fbd-44cb-827d-1ec52a6f67a5",
        "outputId": "37a3e929-7c47-471d-e3bf-7e8f59f08910"
      },
      "outputs": [
        {
          "data": {
            "text/plain": [
              "[1, 3, 5, 7]"
            ]
          },
          "execution_count": 165,
          "metadata": {},
          "output_type": "execute_result"
        }
      ],
      "source": [
        "list(filter(test25,l))"
      ]
    },
    {
      "cell_type": "code",
      "execution_count": null,
      "id": "c9a13efc-cbfb-4fd3-b94d-1bfb531e1dcf",
      "metadata": {
        "id": "c9a13efc-cbfb-4fd3-b94d-1bfb531e1dcf",
        "outputId": "67cde6cb-c04e-4e14-baf1-b397631bd9a1"
      },
      "outputs": [
        {
          "data": {
            "text/plain": [
              "[1, 2, 3, 4, 5, 6, 7, 8]"
            ]
          },
          "execution_count": 159,
          "metadata": {},
          "output_type": "execute_result"
        }
      ],
      "source": [
        "l"
      ]
    },
    {
      "cell_type": "code",
      "execution_count": null,
      "id": "b90a93bd-7b82-48cf-a846-9d429e607bad",
      "metadata": {
        "id": "b90a93bd-7b82-48cf-a846-9d429e607bad",
        "outputId": "d0e5d72a-f3d2-42d0-f73f-f9edfdaf48b2"
      },
      "outputs": [
        {
          "data": {
            "text/plain": [
              "[1, 2, 3, 4, 5, 6, 7, 8]"
            ]
          },
          "execution_count": 160,
          "metadata": {},
          "output_type": "execute_result"
        }
      ],
      "source": [
        "l"
      ]
    },
    {
      "cell_type": "code",
      "execution_count": null,
      "id": "1e838945-a87d-41e0-87e0-9bcdaf3f511b",
      "metadata": {
        "id": "1e838945-a87d-41e0-87e0-9bcdaf3f511b",
        "outputId": "67affd93-8655-48ec-c269-717eedcdb2a5"
      },
      "outputs": [
        {
          "data": {
            "text/plain": [
              "36"
            ]
          },
          "execution_count": 166,
          "metadata": {},
          "output_type": "execute_result"
        }
      ],
      "source": [
        "sum(l)"
      ]
    },
    {
      "cell_type": "code",
      "execution_count": null,
      "id": "20f2a193-1d41-4472-a4fd-333db1ae7153",
      "metadata": {
        "id": "20f2a193-1d41-4472-a4fd-333db1ae7153",
        "outputId": "8790719f-9959-447b-a237-d0d75b179f29"
      },
      "outputs": [
        {
          "data": {
            "text/plain": [
              "[1, 2, 3, 4, 5, 6, 7, 8]"
            ]
          },
          "execution_count": 167,
          "metadata": {},
          "output_type": "execute_result"
        }
      ],
      "source": [
        "l"
      ]
    },
    {
      "cell_type": "code",
      "execution_count": null,
      "id": "d0747cea-b626-43ef-8878-1c056d8cca2e",
      "metadata": {
        "id": "d0747cea-b626-43ef-8878-1c056d8cca2e"
      },
      "outputs": [],
      "source": [
        "from functools import reduce"
      ]
    },
    {
      "cell_type": "code",
      "execution_count": null,
      "id": "3a1f4a1b-a415-44e6-b6e0-49c558cae386",
      "metadata": {
        "id": "3a1f4a1b-a415-44e6-b6e0-49c558cae386",
        "outputId": "410d2fd2-fbcc-431a-847e-c28069991453"
      },
      "outputs": [
        {
          "ename": "TypeError",
          "evalue": "reduce() arg 2 must support iteration",
          "output_type": "error",
          "traceback": [
            "\u001b[0;31m---------------------------------------------------------------------------\u001b[0m",
            "\u001b[0;31mTypeError\u001b[0m                                 Traceback (most recent call last)",
            "Cell \u001b[0;32mIn [182], line 1\u001b[0m\n\u001b[0;32m----> 1\u001b[0m \u001b[43mreduce\u001b[49m\u001b[43m(\u001b[49m\u001b[38;5;28;43;01mlambda\u001b[39;49;00m\u001b[43m \u001b[49m\u001b[43ma\u001b[49m\u001b[43m,\u001b[49m\u001b[43mb\u001b[49m\u001b[43m \u001b[49m\u001b[43m:\u001b[49m\u001b[43m \u001b[49m\u001b[43ma\u001b[49m\u001b[43m \u001b[49m\u001b[38;5;241;43m*\u001b[39;49m\u001b[43mb\u001b[49m\u001b[43m \u001b[49m\u001b[43m,\u001b[49m\u001b[38;5;241;43m5\u001b[39;49m\u001b[43m)\u001b[49m\n",
            "\u001b[0;31mTypeError\u001b[0m: reduce() arg 2 must support iteration"
          ]
        }
      ],
      "source": [
        "reduce(lambda a,b : a *b ,5)"
      ]
    },
    {
      "cell_type": "code",
      "execution_count": null,
      "id": "ce7d23ca-71cf-4ef9-bbd7-c84152d20003",
      "metadata": {
        "id": "ce7d23ca-71cf-4ef9-bbd7-c84152d20003",
        "outputId": "8900214f-cfcc-44d3-fd32-2d51ab4c7063"
      },
      "outputs": [
        {
          "data": {
            "text/plain": [
              "[1, 2, 3, 4, 5, 6, 7, 8]"
            ]
          },
          "execution_count": 211,
          "metadata": {},
          "output_type": "execute_result"
        }
      ],
      "source": [
        "l"
      ]
    },
    {
      "cell_type": "code",
      "execution_count": null,
      "id": "3ba63fcd-3989-4d2f-814f-dcae8e20a88d",
      "metadata": {
        "id": "3ba63fcd-3989-4d2f-814f-dcae8e20a88d",
        "outputId": "d47e1a60-01ee-44c3-fe9b-a1939a9300d7"
      },
      "outputs": [
        {
          "data": {
            "text/plain": [
              "3"
            ]
          },
          "execution_count": 172,
          "metadata": {},
          "output_type": "execute_result"
        }
      ],
      "source": [
        "l1 = [3]\n",
        "reduce(lambda a,b,c : a *b*c , l1)"
      ]
    },
    {
      "cell_type": "code",
      "execution_count": null,
      "id": "e8d09846-e422-44c1-8d29-6bcf26ec4bbf",
      "metadata": {
        "id": "e8d09846-e422-44c1-8d29-6bcf26ec4bbf"
      },
      "outputs": [],
      "source": [
        "def test26(a : int ,b : \"func\", c:int  = 234) -> int:\n",
        "    '''this is my doc string to give a hint to next programer '''\n",
        "    return a +b +str(c)"
      ]
    },
    {
      "cell_type": "code",
      "execution_count": null,
      "id": "fcf3c284-b868-4263-a033-465348c07b6b",
      "metadata": {
        "id": "fcf3c284-b868-4263-a033-465348c07b6b",
        "outputId": "94838203-b3cd-48fb-9b91-b2244dd92f28"
      },
      "outputs": [
        {
          "data": {
            "text/plain": [
              "'sudhkumar345'"
            ]
          },
          "execution_count": 193,
          "metadata": {},
          "output_type": "execute_result"
        }
      ],
      "source": [
        "test26(\"sudh\"  , \"kumar\" , 345)"
      ]
    },
    {
      "cell_type": "code",
      "execution_count": null,
      "id": "9ab1bbfb-7be3-4b2d-bfc2-038a7bdd5dd5",
      "metadata": {
        "id": "9ab1bbfb-7be3-4b2d-bfc2-038a7bdd5dd5"
      },
      "outputs": [],
      "source": [
        "def test27(a :\"fsfs\" ,b : \"fssfdsf\") -> \"this will give me outcome \" :\n",
        "    return a+b"
      ]
    },
    {
      "cell_type": "code",
      "execution_count": null,
      "id": "7907f82d-e70c-4c6a-b773-695f191a7099",
      "metadata": {
        "id": "7907f82d-e70c-4c6a-b773-695f191a7099",
        "outputId": "000a407a-26a6-4166-d3a0-e76d3c7ad756"
      },
      "outputs": [
        {
          "ename": "TypeError",
          "evalue": "can only concatenate str (not \"int\") to str",
          "output_type": "error",
          "traceback": [
            "\u001b[0;31m---------------------------------------------------------------------------\u001b[0m",
            "\u001b[0;31mTypeError\u001b[0m                                 Traceback (most recent call last)",
            "Cell \u001b[0;32mIn [195], line 1\u001b[0m\n\u001b[0;32m----> 1\u001b[0m \u001b[43mtest27\u001b[49m\u001b[43m(\u001b[49m\u001b[38;5;124;43m\"\u001b[39;49m\u001b[38;5;124;43msudh\u001b[39;49m\u001b[38;5;124;43m\"\u001b[39;49m\u001b[43m \u001b[49m\u001b[43m,\u001b[49m\u001b[43m \u001b[49m\u001b[38;5;241;43m4\u001b[39;49m\u001b[43m)\u001b[49m\n",
            "Cell \u001b[0;32mIn [194], line 2\u001b[0m, in \u001b[0;36mtest27\u001b[0;34m(a, b)\u001b[0m\n\u001b[1;32m      1\u001b[0m \u001b[38;5;28;01mdef\u001b[39;00m \u001b[38;5;21mtest27\u001b[39m(a,b):\n\u001b[0;32m----> 2\u001b[0m     \u001b[38;5;28;01mreturn\u001b[39;00m \u001b[43ma\u001b[49m\u001b[38;5;241;43m+\u001b[39;49m\u001b[43mb\u001b[49m\n",
            "\u001b[0;31mTypeError\u001b[0m: can only concatenate str (not \"int\") to str"
          ]
        }
      ],
      "source": [
        "test27(\"sudh\" , 4)"
      ]
    },
    {
      "cell_type": "code",
      "execution_count": null,
      "id": "6e70ea8a-08be-4c67-931b-6042dcfdfb6c",
      "metadata": {
        "id": "6e70ea8a-08be-4c67-931b-6042dcfdfb6c"
      },
      "outputs": [],
      "source": [
        "def test1(func):\n",
        "    def test2():\n",
        "        print(\"i am inside test1\")\n",
        "        func()\n",
        "        print(func())\n",
        "        print(\"function executed\")\n",
        "        return func()\n",
        "    return test2()"
      ]
    },
    {
      "cell_type": "code",
      "execution_count": null,
      "id": "276241db-876b-45d4-8249-f0e8c718a858",
      "metadata": {
        "id": "276241db-876b-45d4-8249-f0e8c718a858",
        "outputId": "60de0ac6-75f8-42ee-e8a0-e3ef3bfae45e"
      },
      "outputs": [
        {
          "name": "stdout",
          "output_type": "stream",
          "text": [
            "i am inside test1\n",
            "11\n",
            "function executed\n"
          ]
        }
      ],
      "source": [
        "\n",
        "@test1\n",
        "def test3():\n",
        "    return 5 + 6"
      ]
    },
    {
      "cell_type": "code",
      "execution_count": null,
      "id": "63338b6c-1fbe-4692-b3b8-b754569fd186",
      "metadata": {
        "id": "63338b6c-1fbe-4692-b3b8-b754569fd186",
        "outputId": "cd1abb70-6ce1-4b85-969e-375fad588fa4"
      },
      "outputs": [
        {
          "ename": "NameError",
          "evalue": "name 'li' is not defined",
          "output_type": "error",
          "traceback": [
            "\u001b[0;31m---------------------------------------------------------------------------\u001b[0m",
            "\u001b[0;31mNameError\u001b[0m                                 Traceback (most recent call last)",
            "Cell \u001b[0;32mIn [212], line 2\u001b[0m\n\u001b[1;32m      1\u001b[0m \u001b[38;5;66;03m#2. write a function which will be able to index of list elements without using an index function.def test1(li):\u001b[39;00m\n\u001b[0;32m----> 2\u001b[0m \u001b[38;5;28;01mfor\u001b[39;00m i \u001b[38;5;129;01min\u001b[39;00m \u001b[38;5;28mrange\u001b[39m(\u001b[38;5;241m0\u001b[39m, test1(\u001b[43mli\u001b[49m)):\n\u001b[1;32m      3\u001b[0m         \u001b[38;5;28mprint\u001b[39m(li[i], \u001b[38;5;124m\"\u001b[39m\u001b[38;5;124m:\u001b[39m\u001b[38;5;124m\"\u001b[39m, i)\n",
            "\u001b[0;31mNameError\u001b[0m: name 'li' is not defined"
          ]
        }
      ],
      "source": [
        "#2. write a function which will be able to index of list elements without using an index function.def test1(li):\n",
        "for i in range(0, test1(li)):\n",
        "        print(li[i], \":\", i)\n"
      ]
    },
    {
      "cell_type": "code",
      "execution_count": null,
      "id": "13c419c0-9858-4380-bf4f-6911e0baa3f4",
      "metadata": {
        "id": "13c419c0-9858-4380-bf4f-6911e0baa3f4"
      },
      "outputs": [],
      "source": [
        "def test1(li):\n",
        "    for i in range(0, len(li)):\n",
        "        print(li[i], \":\", i)"
      ]
    },
    {
      "cell_type": "code",
      "execution_count": null,
      "id": "240e6538-be2c-4fa3-b713-fb9de83715be",
      "metadata": {
        "id": "240e6538-be2c-4fa3-b713-fb9de83715be",
        "outputId": "e1947363-537d-42fa-b1eb-4fe500a1ee58"
      },
      "outputs": [
        {
          "data": {
            "text/plain": [
              "[1, 2, 3, 4, 5, 6, 7, 8]"
            ]
          },
          "execution_count": 220,
          "metadata": {},
          "output_type": "execute_result"
        }
      ],
      "source": [
        "l"
      ]
    },
    {
      "cell_type": "code",
      "execution_count": null,
      "id": "4567040b-c55a-42c0-a789-2a9065e3292a",
      "metadata": {
        "id": "4567040b-c55a-42c0-a789-2a9065e3292a",
        "outputId": "2797d9ac-6e01-406d-8c6c-0905153b329f"
      },
      "outputs": [
        {
          "name": "stdout",
          "output_type": "stream",
          "text": [
            "1 : 0\n",
            "2 : 1\n",
            "3 : 2\n",
            "4 : 3\n",
            "5 : 4\n",
            "6 : 5\n",
            "7 : 6\n",
            "8 : 7\n"
          ]
        }
      ],
      "source": [
        "test1(l)"
      ]
    },
    {
      "cell_type": "code",
      "execution_count": null,
      "id": "fd387955-41a4-472c-95df-a9ecf1cb9c1b",
      "metadata": {
        "id": "fd387955-41a4-472c-95df-a9ecf1cb9c1b"
      },
      "outputs": [],
      "source": [
        "query@ineuron.ai\n",
        "sudhanshu@ineuron.ai"
      ]
    },
    {
      "cell_type": "code",
      "execution_count": null,
      "id": "4a4949e5-6a19-4190-b90a-ea3b12da9163",
      "metadata": {
        "id": "4a4949e5-6a19-4190-b90a-ea3b12da9163",
        "outputId": "8a334bd2-c6eb-4345-ea52-74ac21a04946"
      },
      "outputs": [
        {
          "name": "stdout",
          "output_type": "stream",
          "text": [
            "2\n",
            "['x', 4]\n",
            "{'b': 0, 'a': 'y'}\n"
          ]
        },
        {
          "data": {
            "text/plain": [
              "(1, ['x', 4], {'b': 0, 'a': 'y'})"
            ]
          },
          "execution_count": 224,
          "metadata": {},
          "output_type": "execute_result"
        }
      ],
      "source": [
        "def func(a, b, c):\n",
        "    a = 2\n",
        "    print(a)\n",
        "    d =\n",
        "    b[0] = 'x'\n",
        "    print(b)\n",
        "    c['a'] = 'y'\n",
        "    print(c)\n",
        "\n",
        "l=1\n",
        "m=[1,4]\n",
        "n={'b':0}\n",
        "func(l, m, n)\n",
        "l, m, n\n"
      ]
    },
    {
      "cell_type": "code",
      "execution_count": null,
      "id": "827d5620-2552-468a-b905-192efa5e6f1c",
      "metadata": {
        "id": "827d5620-2552-468a-b905-192efa5e6f1c",
        "outputId": "9b98fe46-134d-4928-ab22-9b12c42ff4c8"
      },
      "outputs": [
        {
          "data": {
            "text/plain": [
              "['x', 4]"
            ]
          },
          "execution_count": 225,
          "metadata": {},
          "output_type": "execute_result"
        }
      ],
      "source": [
        "m"
      ]
    },
    {
      "cell_type": "code",
      "execution_count": null,
      "id": "30122f58-889c-4a8c-8507-fda36dd2b126",
      "metadata": {
        "id": "30122f58-889c-4a8c-8507-fda36dd2b126"
      },
      "outputs": [],
      "source": [
        "m=[1,4]"
      ]
    },
    {
      "cell_type": "code",
      "execution_count": null,
      "id": "5c8d580a-54bd-43bc-a037-c7e36096afa6",
      "metadata": {
        "id": "5c8d580a-54bd-43bc-a037-c7e36096afa6"
      },
      "outputs": [],
      "source": [
        "m[0] = \"x\""
      ]
    },
    {
      "cell_type": "code",
      "execution_count": null,
      "id": "5258b79f-3429-4c37-9366-9bf1b7ed23a5",
      "metadata": {
        "id": "5258b79f-3429-4c37-9366-9bf1b7ed23a5",
        "outputId": "32dd34c8-0601-43ce-aac0-7a1a870f9206"
      },
      "outputs": [
        {
          "data": {
            "text/plain": [
              "['x', 4]"
            ]
          },
          "execution_count": 228,
          "metadata": {},
          "output_type": "execute_result"
        }
      ],
      "source": [
        "m"
      ]
    },
    {
      "cell_type": "code",
      "execution_count": null,
      "id": "90ed1b3b-9171-4afe-ac70-80d6113761cf",
      "metadata": {
        "id": "90ed1b3b-9171-4afe-ac70-80d6113761cf",
        "outputId": "137405b1-faf6-4066-ae62-e9a8b18c953b"
      },
      "outputs": [
        {
          "name": "stdout",
          "output_type": "stream",
          "text": [
            "48\n"
          ]
        }
      ],
      "source": [
        "def create_adder(x):\n",
        "    def adder(y,z):\n",
        "        return x+y+z\n",
        "\n",
        "    return adder\n",
        "\n",
        "add_15 = create_adder(15)\n",
        "\n",
        "print(add_15(10,23))\n"
      ]
    },
    {
      "cell_type": "code",
      "execution_count": null,
      "id": "21a9c9d9-f3d7-498b-ba6b-774ee121f55c",
      "metadata": {
        "id": "21a9c9d9-f3d7-498b-ba6b-774ee121f55c",
        "outputId": "37d60309-a1f3-44f1-b671-d54cb9fa4965"
      },
      "outputs": [
        {
          "data": {
            "text/plain": [
              "<function __main__.create_adder.<locals>.adder(y, z)>"
            ]
          },
          "execution_count": 237,
          "metadata": {},
          "output_type": "execute_result"
        }
      ],
      "source": [
        "create_adder(15)"
      ]
    },
    {
      "cell_type": "code",
      "execution_count": null,
      "id": "ecd2efbd-e43a-48e2-8563-7051bf8ee2a0",
      "metadata": {
        "id": "ecd2efbd-e43a-48e2-8563-7051bf8ee2a0",
        "outputId": "15a55f7b-3553-4398-ab59-a8bcea58ffb3"
      },
      "outputs": [
        {
          "data": {
            "text/plain": [
              "<function __main__.create_adder.<locals>.adder(y, z)>"
            ]
          },
          "execution_count": 239,
          "metadata": {},
          "output_type": "execute_result"
        }
      ],
      "source": [
        "create_adder(0)"
      ]
    },
    {
      "cell_type": "code",
      "execution_count": null,
      "id": "aa062aaa-36f7-4f39-b47d-cb699227a1d3",
      "metadata": {
        "id": "aa062aaa-36f7-4f39-b47d-cb699227a1d3"
      },
      "outputs": [],
      "source": []
    }
  ],
  "metadata": {
    "kernelspec": {
      "display_name": "Python 3 (ipykernel)",
      "language": "python",
      "name": "python3"
    },
    "language_info": {
      "codemirror_mode": {
        "name": "ipython",
        "version": 3
      },
      "file_extension": ".py",
      "mimetype": "text/x-python",
      "name": "python",
      "nbconvert_exporter": "python",
      "pygments_lexer": "ipython3",
      "version": "3.10.6"
    },
    "colab": {
      "provenance": []
    }
  },
  "nbformat": 4,
  "nbformat_minor": 5
}