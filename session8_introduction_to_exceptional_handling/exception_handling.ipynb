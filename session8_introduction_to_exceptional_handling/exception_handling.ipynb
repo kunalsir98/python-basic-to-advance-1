{
  "cells": [
    {
      "cell_type": "code",
      "execution_count": 7,
      "id": "a10fcec5-973c-4781-b138-aded0a3b794d",
      "metadata": {
        "id": "a10fcec5-973c-4781-b138-aded0a3b794d",
        "outputId": "95832f08-510b-4b8d-e74e-e23a52359a5f"
      },
      "outputs": [],
      "source": [
        "#indentation Error\n",
        "##print(\"i write code\")\n",
        "  ## print(\" ineuron\")"
      ]
    },
    {
      "cell_type": "code",
      "execution_count": 8,
      "id": "f5393ca5-e83e-482c-9c89-7dd67b094e96",
      "metadata": {
        "id": "f5393ca5-e83e-482c-9c89-7dd67b094e96",
        "outputId": "50c1f5af-3b55-486f-828e-2fab88560c33"
      },
      "outputs": [],
      "source": [
        "#a-10"
      ]
    },
    {
      "cell_type": "code",
      "execution_count": 9,
      "id": "36508aa6-d8cb-449a-9ad8-dfe56009898d",
      "metadata": {
        "id": "36508aa6-d8cb-449a-9ad8-dfe56009898d",
        "outputId": "94d54f3a-df5e-4e53-de8e-2122f32cb548"
      },
      "outputs": [],
      "source": [
        "#indentation error\n",
        "#if (a<10)\n",
        "   #print(\"a is less than 10\")"
      ]
    },
    {
      "cell_type": "code",
      "execution_count": 10,
      "id": "0f0ad862-6ca7-4145-adb6-5f5fcaf2c4ff",
      "metadata": {
        "id": "0f0ad862-6ca7-4145-adb6-5f5fcaf2c4ff",
        "outputId": "5652e8ab-74de-4d1b-c5cb-4a5a0de89beb"
      },
      "outputs": [],
      "source": [
        "#1/0# divison by Zero"
      ]
    },
    {
      "cell_type": "code",
      "execution_count": 11,
      "id": "39d6f93b-50f0-4230-b7a5-f416b2ef94fa",
      "metadata": {
        "id": "39d6f93b-50f0-4230-b7a5-f416b2ef94fa",
        "outputId": "0eeda3f2-c5ec-44b1-e20c-c19090c91865"
      },
      "outputs": [],
      "source": [
        "#open(\"tett.txt\") directory is not present "
      ]
    },
    {
      "cell_type": "code",
      "execution_count": 12,
      "id": "927c5999-0e7d-419c-aef6-baddeac087ed",
      "metadata": {
        "id": "927c5999-0e7d-419c-aef6-baddeac087ed",
        "outputId": "82f4745e-38ad-4f7b-bd6e-4f27af095280"
      },
      "outputs": [],
      "source": [
        "#a=10\n",
        "#b=20\n",
        "#print(\"Addition\", a+c)#has name c is not defined it will give error"
      ]
    },
    {
      "cell_type": "code",
      "execution_count": 13,
      "id": "e8eb6d94-2679-4050-be8b-839450f9b9c9",
      "metadata": {
        "id": "e8eb6d94-2679-4050-be8b-839450f9b9c9",
        "outputId": "05078d5a-ffb7-4ca6-8e15-5a540fbed4ed"
      },
      "outputs": [
        {
          "name": "stdout",
          "output_type": "stream",
          "text": [
            "['ArithmeticError', 'AssertionError', 'AttributeError', 'BaseException', 'BaseExceptionGroup', 'BlockingIOError', 'BrokenPipeError', 'BufferError', 'BytesWarning', 'ChildProcessError', 'ConnectionAbortedError', 'ConnectionError', 'ConnectionRefusedError', 'ConnectionResetError', 'DeprecationWarning', 'EOFError', 'Ellipsis', 'EncodingWarning', 'EnvironmentError', 'Exception', 'ExceptionGroup', 'False', 'FileExistsError', 'FileNotFoundError', 'FloatingPointError', 'FutureWarning', 'GeneratorExit', 'IOError', 'ImportError', 'ImportWarning', 'IndentationError', 'IndexError', 'InterruptedError', 'IsADirectoryError', 'KeyError', 'KeyboardInterrupt', 'LookupError', 'MemoryError', 'ModuleNotFoundError', 'NameError', 'None', 'NotADirectoryError', 'NotImplemented', 'NotImplementedError', 'OSError', 'OverflowError', 'PendingDeprecationWarning', 'PermissionError', 'ProcessLookupError', 'RecursionError', 'ReferenceError', 'ResourceWarning', 'RuntimeError', 'RuntimeWarning', 'StopAsyncIteration', 'StopIteration', 'SyntaxError', 'SyntaxWarning', 'SystemError', 'SystemExit', 'TabError', 'TimeoutError', 'True', 'TypeError', 'UnboundLocalError', 'UnicodeDecodeError', 'UnicodeEncodeError', 'UnicodeError', 'UnicodeTranslateError', 'UnicodeWarning', 'UserWarning', 'ValueError', 'Warning', 'WindowsError', 'ZeroDivisionError', '__IPYTHON__', '__build_class__', '__debug__', '__doc__', '__import__', '__loader__', '__name__', '__package__', '__spec__', 'abs', 'aiter', 'all', 'anext', 'any', 'ascii', 'bin', 'bool', 'breakpoint', 'bytearray', 'bytes', 'callable', 'chr', 'classmethod', 'compile', 'complex', 'copyright', 'credits', 'delattr', 'dict', 'dir', 'display', 'divmod', 'enumerate', 'eval', 'exec', 'execfile', 'filter', 'float', 'format', 'frozenset', 'get_ipython', 'getattr', 'globals', 'hasattr', 'hash', 'help', 'hex', 'id', 'input', 'int', 'isinstance', 'issubclass', 'iter', 'len', 'license', 'list', 'locals', 'map', 'max', 'memoryview', 'min', 'next', 'object', 'oct', 'open', 'ord', 'pow', 'print', 'property', 'range', 'repr', 'reversed', 'round', 'runfile', 'set', 'setattr', 'slice', 'sorted', 'staticmethod', 'str', 'sum', 'super', 'tuple', 'type', 'vars', 'zip']\n"
          ]
        }
      ],
      "source": [
        "print(dir(locals()['__builtins__']))"
      ]
    },
    {
      "cell_type": "markdown",
      "id": "e25d5a5a-eabf-4f9b-87c6-143a0088c75b",
      "metadata": {
        "id": "e25d5a5a-eabf-4f9b-87c6-143a0088c75b"
      },
      "source": []
    },
    {
      "cell_type": "code",
      "execution_count": 14,
      "id": "6f8877fc-cfe6-40ee-bacb-ed7555a4a27b",
      "metadata": {
        "id": "6f8877fc-cfe6-40ee-bacb-ed7555a4a27b",
        "outputId": "ed8b2b32-60c8-4a14-d65d-cf0288b26a8e"
      },
      "outputs": [],
      "source": [
        "#a=6\n",
        "#b=int(input())\n",
        "#a/b division by zero error"
      ]
    },
    {
      "cell_type": "code",
      "execution_count": 15,
      "id": "24c0ef72-d8c4-42b3-bfaf-49818c0ad906",
      "metadata": {
        "id": "24c0ef72-d8c4-42b3-bfaf-49818c0ad906",
        "outputId": "28a871ab-999b-489e-b950-537487e89ac6"
      },
      "outputs": [
        {
          "name": "stdout",
          "output_type": "stream",
          "text": [
            "1.1111111111111112\n"
          ]
        }
      ],
      "source": [
        "try:\n",
        "    a=10\n",
        "    b=9\n",
        "    c=a/b\n",
        "    print(c)\n",
        "except:\n",
        "    print(\"cant divide with zero provide different number\")"
      ]
    },
    {
      "cell_type": "code",
      "execution_count": 16,
      "id": "97d2498c-97f8-48f0-83c3-7ea7f3f75b65",
      "metadata": {
        "id": "97d2498c-97f8-48f0-83c3-7ea7f3f75b65",
        "outputId": "111e1451-ff5f-4954-edd0-ad60b3e58b9d"
      },
      "outputs": [
        {
          "name": "stdout",
          "output_type": "stream",
          "text": [
            "there was mistake\n",
            "this is outer block\n"
          ]
        }
      ],
      "source": [
        "try:\n",
        "    f=open(\"test.txt\",\"r\")\n",
        "    f.write(\"ineuron\")\n",
        "except:\n",
        "    print(\"there was mistake\")\n",
        "\n",
        "print(\"this is outer block\")"
      ]
    },
    {
      "cell_type": "code",
      "execution_count": null,
      "id": "c3080b29-618a-4e65-951f-894a94ff783d",
      "metadata": {
        "id": "c3080b29-618a-4e65-951f-894a94ff783d"
      },
      "outputs": [],
      "source": []
    },
    {
      "cell_type": "code",
      "execution_count": 17,
      "id": "29ae18d7-e0f8-478f-90bc-7a718a0830df",
      "metadata": {
        "id": "29ae18d7-e0f8-478f-90bc-7a718a0830df",
        "outputId": "7ea0e80f-35a6-465b-edc2-a67e350c268b"
      },
      "outputs": [
        {
          "ename": "FileNotFoundError",
          "evalue": "[Errno 2] No such file or directory: 'test.txt'",
          "output_type": "error",
          "traceback": [
            "\u001b[1;31m---------------------------------------------------------------------------\u001b[0m",
            "\u001b[1;31mFileNotFoundError\u001b[0m                         Traceback (most recent call last)",
            "Cell \u001b[1;32mIn[17], line 1\u001b[0m\n\u001b[1;32m----> 1\u001b[0m f\u001b[38;5;241m=\u001b[39m\u001b[38;5;28mopen\u001b[39m(\u001b[38;5;124m\"\u001b[39m\u001b[38;5;124mtest.txt\u001b[39m\u001b[38;5;124m\"\u001b[39m,\u001b[38;5;124m\"\u001b[39m\u001b[38;5;124mr\u001b[39m\u001b[38;5;124m\"\u001b[39m)\n",
            "File \u001b[1;32mc:\\ProgramData\\anaconda3\\Lib\\site-packages\\IPython\\core\\interactiveshell.py:286\u001b[0m, in \u001b[0;36m_modified_open\u001b[1;34m(file, *args, **kwargs)\u001b[0m\n\u001b[0;32m    279\u001b[0m \u001b[38;5;28;01mif\u001b[39;00m file \u001b[38;5;129;01min\u001b[39;00m {\u001b[38;5;241m0\u001b[39m, \u001b[38;5;241m1\u001b[39m, \u001b[38;5;241m2\u001b[39m}:\n\u001b[0;32m    280\u001b[0m     \u001b[38;5;28;01mraise\u001b[39;00m \u001b[38;5;167;01mValueError\u001b[39;00m(\n\u001b[0;32m    281\u001b[0m         \u001b[38;5;124mf\u001b[39m\u001b[38;5;124m\"\u001b[39m\u001b[38;5;124mIPython won\u001b[39m\u001b[38;5;124m'\u001b[39m\u001b[38;5;124mt let you open fd=\u001b[39m\u001b[38;5;132;01m{\u001b[39;00mfile\u001b[38;5;132;01m}\u001b[39;00m\u001b[38;5;124m by default \u001b[39m\u001b[38;5;124m\"\u001b[39m\n\u001b[0;32m    282\u001b[0m         \u001b[38;5;124m\"\u001b[39m\u001b[38;5;124mas it is likely to crash IPython. If you know what you are doing, \u001b[39m\u001b[38;5;124m\"\u001b[39m\n\u001b[0;32m    283\u001b[0m         \u001b[38;5;124m\"\u001b[39m\u001b[38;5;124myou can use builtins\u001b[39m\u001b[38;5;124m'\u001b[39m\u001b[38;5;124m open.\u001b[39m\u001b[38;5;124m\"\u001b[39m\n\u001b[0;32m    284\u001b[0m     )\n\u001b[1;32m--> 286\u001b[0m \u001b[38;5;28;01mreturn\u001b[39;00m io_open(file, \u001b[38;5;241m*\u001b[39margs, \u001b[38;5;241m*\u001b[39m\u001b[38;5;241m*\u001b[39mkwargs)\n",
            "\u001b[1;31mFileNotFoundError\u001b[0m: [Errno 2] No such file or directory: 'test.txt'"
          ]
        }
      ],
      "source": [
        "f=open(\"test.txt\",\"r\")"
      ]
    },
    {
      "cell_type": "code",
      "execution_count": null,
      "id": "6624563d-a2b0-4284-8b71-d0c943ba8bf0",
      "metadata": {
        "id": "6624563d-a2b0-4284-8b71-d0c943ba8bf0",
        "outputId": "b814bd1d-ed69-4297-ce80-db9a2e3cb545"
      },
      "outputs": [
        {
          "name": "stdout",
          "output_type": "stream",
          "text": [
            "[4, 5, 6, 7, 8, 9, 9]\n",
            "[4, 5, 6, 7, 8, 9, 9]\n",
            "[4, 5, 6, 7, 8, 9, 9]\n",
            "[4, 5, 6, 7, 8, 9, 9]\n",
            "[4, 5, 6, 7, 8, 9, 9]\n",
            "[4, 5, 6, 7, 8, 9, 9]\n",
            "[4, 5, 6, 7, 8, 9, 9]\n"
          ]
        }
      ],
      "source": [
        "l=[4,5,6,7,8,9,9]\n",
        "\n",
        "try:\n",
        "    for i in range(len(l)):\n",
        "        print(l)\n",
        "except:\n",
        "    print(\"this is not working\")"
      ]
    },
    {
      "cell_type": "code",
      "execution_count": null,
      "id": "4f7d033d-0662-49a3-aefc-ff3095960e29",
      "metadata": {
        "id": "4f7d033d-0662-49a3-aefc-ff3095960e29",
        "outputId": "cc5e9605-e620-48d9-8eee-fe1909baf563"
      },
      "outputs": [
        {
          "name": "stdout",
          "output_type": "stream",
          "text": [
            "4\n",
            "5\n",
            "6\n",
            "7\n",
            "8\n",
            "9\n",
            "9\n",
            "this is not working\n"
          ]
        }
      ],
      "source": [
        "l=[4,5,6,7,8,9,9]\n",
        "\n",
        "try:\n",
        "    for i in range(len(l)+1):\n",
        "        print(l[i])\n",
        "except:\n",
        "    print(\"this is not working\")"
      ]
    },
    {
      "cell_type": "code",
      "execution_count": null,
      "id": "fbf2a89d-400e-4671-a404-289329b9d298",
      "metadata": {
        "id": "fbf2a89d-400e-4671-a404-289329b9d298"
      },
      "outputs": [],
      "source": []
    },
    {
      "cell_type": "code",
      "execution_count": null,
      "id": "f66ff061-63b9-406d-bf0b-b64b245dd072",
      "metadata": {
        "id": "f66ff061-63b9-406d-bf0b-b64b245dd072",
        "outputId": "51209dcc-07ea-4f01-fb06-4c70553132d7"
      },
      "outputs": [
        {
          "name": "stdout",
          "output_type": "stream",
          "text": [
            "4\n",
            "5\n",
            "6\n",
            "7\n",
            "8\n",
            "9\n",
            "9\n"
          ]
        },
        {
          "ename": "IndexError",
          "evalue": "list index out of range",
          "output_type": "error",
          "traceback": [
            "\u001b[0;31m---------------------------------------------------------------------------\u001b[0m",
            "\u001b[0;31mIndexError\u001b[0m                                Traceback (most recent call last)",
            "Cell \u001b[0;32mIn [24], line 5\u001b[0m\n\u001b[1;32m      1\u001b[0m l\u001b[38;5;241m=\u001b[39m[\u001b[38;5;241m4\u001b[39m,\u001b[38;5;241m5\u001b[39m,\u001b[38;5;241m6\u001b[39m,\u001b[38;5;241m7\u001b[39m,\u001b[38;5;241m8\u001b[39m,\u001b[38;5;241m9\u001b[39m,\u001b[38;5;241m9\u001b[39m]\n\u001b[1;32m      4\u001b[0m \u001b[38;5;28;01mfor\u001b[39;00m i \u001b[38;5;129;01min\u001b[39;00m \u001b[38;5;28mrange\u001b[39m(\u001b[38;5;28mlen\u001b[39m(l)\u001b[38;5;241m+\u001b[39m\u001b[38;5;241m1\u001b[39m):\n\u001b[0;32m----> 5\u001b[0m     \u001b[38;5;28mprint\u001b[39m(\u001b[43ml\u001b[49m\u001b[43m[\u001b[49m\u001b[43mi\u001b[49m\u001b[43m]\u001b[49m)\n",
            "\u001b[0;31mIndexError\u001b[0m: list index out of range"
          ]
        }
      ],
      "source": [
        "l=[4,5,6,7,8,9,9]\n",
        "\n",
        "\n",
        "for i in range(len(l)+1):\n",
        "    print(l[i])"
      ]
    },
    {
      "cell_type": "code",
      "execution_count": null,
      "id": "b569fb67-c527-493d-8393-9fdca1002139",
      "metadata": {
        "id": "b569fb67-c527-493d-8393-9fdca1002139",
        "outputId": "9f9a92e5-9410-47f9-b0ad-2070cce3a605"
      },
      "outputs": [
        {
          "name": "stdout",
          "output_type": "stream",
          "text": [
            "4\n",
            "5\n",
            "6\n",
            "7\n",
            "8\n",
            "9\n",
            "9\n",
            "list index out of range\n",
            "this is not working\n"
          ]
        }
      ],
      "source": [
        "l=[4,5,6,7,8,9,9]\n",
        "\n",
        "try:\n",
        "    for i in range(len(l)+1):\n",
        "        print(l[i])\n",
        "except Exception as e:\n",
        "    print(e)\n",
        "    print(\"this is not working\")"
      ]
    },
    {
      "cell_type": "code",
      "execution_count": null,
      "id": "05903411-d201-4c9f-a0d1-6945100ae664",
      "metadata": {
        "id": "05903411-d201-4c9f-a0d1-6945100ae664",
        "outputId": "e88721b4-7c88-45e0-fe21-be13dbd4f0fa"
      },
      "outputs": [
        {
          "name": "stdout",
          "output_type": "stream",
          "text": [
            " k\n"
          ]
        },
        {
          "name": "stdout",
          "output_type": "stream",
          "text": [
            "invalid literal for int() with base 10: 'k'\n",
            "ineuron\n"
          ]
        }
      ],
      "source": [
        "try:\n",
        "    a=int(input())\n",
        "    b=int(input())\n",
        "except Exception as e:\n",
        "    print(e)\n",
        "print(\"ineuron\")"
      ]
    },
    {
      "cell_type": "code",
      "execution_count": null,
      "id": "6a75a404-d665-468f-8eb1-d67a5bd77322",
      "metadata": {
        "id": "6a75a404-d665-468f-8eb1-d67a5bd77322",
        "outputId": "5c9f6571-b628-4e5c-bf9e-c2481d4e077d"
      },
      "outputs": [
        {
          "name": "stdout",
          "output_type": "stream",
          "text": [
            " y\n"
          ]
        },
        {
          "ename": "ValueError",
          "evalue": "invalid literal for int() with base 10: 'y'",
          "output_type": "error",
          "traceback": [
            "\u001b[0;31m---------------------------------------------------------------------------\u001b[0m",
            "\u001b[0;31mValueError\u001b[0m                                Traceback (most recent call last)",
            "Cell \u001b[0;32mIn [27], line 1\u001b[0m\n\u001b[0;32m----> 1\u001b[0m a\u001b[38;5;241m=\u001b[39m\u001b[38;5;28;43mint\u001b[39;49m\u001b[43m(\u001b[49m\u001b[38;5;28;43minput\u001b[39;49m\u001b[43m(\u001b[49m\u001b[43m)\u001b[49m\u001b[43m)\u001b[49m\n\u001b[1;32m      2\u001b[0m b\u001b[38;5;241m=\u001b[39m\u001b[38;5;28mint\u001b[39m(\u001b[38;5;28minput\u001b[39m())\n",
            "\u001b[0;31mValueError\u001b[0m: invalid literal for int() with base 10: 'y'"
          ]
        }
      ],
      "source": [
        "a=int(input())\n",
        "b=int(input())"
      ]
    },
    {
      "cell_type": "code",
      "execution_count": null,
      "id": "ec1100a7-6071-4c88-bd36-1bc50ff6fa18",
      "metadata": {
        "id": "ec1100a7-6071-4c88-bd36-1bc50ff6fa18",
        "outputId": "2a07371d-32b5-4dac-caa2-d79d4ee2e41d"
      },
      "outputs": [
        {
          "name": "stdout",
          "output_type": "stream",
          "text": [
            "enter value of a: 4\n",
            "enter value of b: 2\n"
          ]
        },
        {
          "name": "stdout",
          "output_type": "stream",
          "text": [
            "answer 2.0\n"
          ]
        }
      ],
      "source": [
        "try:\n",
        "    a=int(input(\"enter value of a:\"))\n",
        "    b=int(input(\"enter value of b:\"))\n",
        "    c=a/b\n",
        "    print(\"answer\",c)\n",
        "except ValueError:\n",
        "    print(\"Entered value is wromg\")\n",
        "except ZeroDivisionError:\n",
        "    print(\"cannt divide by zero\")"
      ]
    },
    {
      "cell_type": "code",
      "execution_count": null,
      "id": "97236571-441b-439e-9950-c485ef2092cf",
      "metadata": {
        "id": "97236571-441b-439e-9950-c485ef2092cf",
        "outputId": "76482c51-7d1a-4eef-89c7-1067f21c3444"
      },
      "outputs": [
        {
          "name": "stdout",
          "output_type": "stream",
          "text": [
            "enter value of a: 5\n",
            "enter value of b: ten\n"
          ]
        },
        {
          "name": "stdout",
          "output_type": "stream",
          "text": [
            "Entered value is wromg\n"
          ]
        }
      ],
      "source": [
        "try:\n",
        "    a=int(input(\"enter value of a:\"))\n",
        "    b=int(input(\"enter value of b:\"))\n",
        "    c=a/b\n",
        "    print(\"answer\",c)\n",
        "except ValueError:\n",
        "    print(\"Entered value is wromg\")\n",
        "except ZeroDivisionError:\n",
        "    print(\"cannt divide by zero\")"
      ]
    },
    {
      "cell_type": "code",
      "execution_count": null,
      "id": "432f42b8-a007-4738-ba65-1f33cec91be4",
      "metadata": {
        "id": "432f42b8-a007-4738-ba65-1f33cec91be4",
        "outputId": "b8ffcee8-127c-4c0c-ce5a-f0e669f8f69d"
      },
      "outputs": [
        {
          "name": "stdout",
          "output_type": "stream",
          "text": [
            "enter value of a: 5\n",
            "enter value of b: 0\n"
          ]
        },
        {
          "name": "stdout",
          "output_type": "stream",
          "text": [
            "cannt divide by zero\n"
          ]
        }
      ],
      "source": [
        "try:\n",
        "    a=int(input(\"enter value of a:\"))\n",
        "    b=int(input(\"enter value of b:\"))\n",
        "    c=a/b\n",
        "    print(\"answer\",c)\n",
        "except ValueError:\n",
        "    print(\"Entered value is wromg\")\n",
        "except ZeroDivisionError:\n",
        "    print(\"cannt divide by zero\")"
      ]
    },
    {
      "cell_type": "code",
      "execution_count": null,
      "id": "51651106-e41e-48eb-9cd9-8455e83c28a5",
      "metadata": {
        "id": "51651106-e41e-48eb-9cd9-8455e83c28a5",
        "outputId": "e80c1e3b-a50d-497e-8bd7-131fc97a99d8"
      },
      "outputs": [
        {
          "name": "stdout",
          "output_type": "stream",
          "text": [
            "The entry is a\n",
            "oops <class 'ValueError'> occured\n",
            "next entry\n",
            "The entry is 0\n",
            "oops <class 'ZeroDivisionError'> occured\n",
            "next entry\n",
            "The entry is 2\n",
            "The reciprocal of 2 is 0.5\n"
          ]
        }
      ],
      "source": [
        "import sys\n",
        "\n",
        "randomList=['a',0,2]\n",
        "\n",
        "for entry in randomList:\n",
        "\n",
        "\n",
        "    try:\n",
        "        print(\"The entry is\",entry)\n",
        "        r=1/int(entry)\n",
        "        break\n",
        "    except:\n",
        "        print(\"oops\",sys.exc_info()[0],\"occured\")\n",
        "        print(\"next entry\")\n",
        "\n",
        "\n",
        "\n",
        "\n",
        "print(\"The reciprocal of\",entry,\"is\",r)\n"
      ]
    },
    {
      "cell_type": "code",
      "execution_count": null,
      "id": "c135d52a-04b0-4ffb-a4bf-fdd8816d7b98",
      "metadata": {
        "id": "c135d52a-04b0-4ffb-a4bf-fdd8816d7b98"
      },
      "outputs": [],
      "source": []
    },
    {
      "cell_type": "code",
      "execution_count": null,
      "id": "6a054c63-fc20-4182-aaf2-565623d1d261",
      "metadata": {
        "id": "6a054c63-fc20-4182-aaf2-565623d1d261"
      },
      "outputs": [],
      "source": [
        "try:\n",
        "    # block of code\n",
        "except Exceptions:\n",
        "    # block of code\n",
        "else:\n",
        "    #this code excecutes when exception not occured"
      ]
    },
    {
      "cell_type": "code",
      "execution_count": null,
      "id": "3d9accc3-81a8-48bc-9b03-46855fb47fbe",
      "metadata": {
        "id": "3d9accc3-81a8-48bc-9b03-46855fb47fbe",
        "outputId": "62996704-a191-48ff-fcd3-7883a776dde7"
      },
      "outputs": [
        {
          "name": "stdout",
          "output_type": "stream",
          "text": [
            "enter a number:  10\n"
          ]
        },
        {
          "name": "stdout",
          "output_type": "stream",
          "text": [
            "0.1\n"
          ]
        }
      ],
      "source": [
        "try:\n",
        "    num=int(input(\"enter a number: \"))\n",
        "    assert num % 2 ==0\n",
        "except:\n",
        "    print(\"not a even number\")\n",
        "else:\n",
        "    reciprocal=1/num\n",
        "    print(reciprocal)"
      ]
    },
    {
      "cell_type": "code",
      "execution_count": null,
      "id": "2d0093c4-29cc-4a43-8131-67a3648c4fa5",
      "metadata": {
        "id": "2d0093c4-29cc-4a43-8131-67a3648c4fa5",
        "outputId": "93848639-01fc-45b3-e7e9-51e580ed2376"
      },
      "outputs": [
        {
          "name": "stdout",
          "output_type": "stream",
          "text": [
            "enter value of a: 4\n",
            "enter value of b: 2\n"
          ]
        },
        {
          "name": "stdout",
          "output_type": "stream",
          "text": [
            "answer 2.0\n",
            "else block\n"
          ]
        }
      ],
      "source": [
        "try:\n",
        "    a=int(input(\"enter value of a:\"))\n",
        "    b=int(input(\"enter value of b:\"))\n",
        "    c=a/b\n",
        "    print(\"answer\",c)\n",
        "except ZeroDivisionError:\n",
        "    print(\"cannt divide by zero\")\n",
        "else:\n",
        "    print(\"else block\")\n"
      ]
    },
    {
      "cell_type": "code",
      "execution_count": null,
      "id": "af8c21ef-c939-4a74-b6dc-6636e86d67da",
      "metadata": {
        "id": "af8c21ef-c939-4a74-b6dc-6636e86d67da",
        "outputId": "9fae4877-acc1-4b74-e718-eea40b173501"
      },
      "outputs": [
        {
          "name": "stdout",
          "output_type": "stream",
          "text": [
            "enter value of a: 6\n",
            "enter value of b: 3\n"
          ]
        },
        {
          "name": "stdout",
          "output_type": "stream",
          "text": [
            "answer 2.0\n",
            "from finally block block\n"
          ]
        }
      ],
      "source": [
        "try:\n",
        "    a=int(input(\"enter value of a:\"))\n",
        "    b=int(input(\"enter value of b:\"))\n",
        "    c=a/b\n",
        "    print(\"answer\",c)\n",
        "except ZeroDivisionError:\n",
        "    print(\"cannt divide by zero\")\n",
        "finally:\n",
        "    print(\"from finally block block\")"
      ]
    },
    {
      "cell_type": "code",
      "execution_count": null,
      "id": "c5539729-e402-4400-8668-edc14def4b74",
      "metadata": {
        "id": "c5539729-e402-4400-8668-edc14def4b74"
      },
      "outputs": [],
      "source": [
        "def divide(x,y):\n",
        "    print(x/y)"
      ]
    },
    {
      "cell_type": "code",
      "execution_count": null,
      "id": "1d04812e-c54f-4aab-968f-9a240d215295",
      "metadata": {
        "id": "1d04812e-c54f-4aab-968f-9a240d215295",
        "outputId": "7d2d1c20-c235-44e2-8349-08646b17be4f"
      },
      "outputs": [
        {
          "name": "stdout",
          "output_type": "stream",
          "text": [
            "5.0\n"
          ]
        },
        {
          "ename": "ZeroDivisionError",
          "evalue": "division by zero",
          "output_type": "error",
          "traceback": [
            "\u001b[0;31m---------------------------------------------------------------------------\u001b[0m",
            "\u001b[0;31mZeroDivisionError\u001b[0m                         Traceback (most recent call last)",
            "Cell \u001b[0;32mIn [54], line 2\u001b[0m\n\u001b[1;32m      1\u001b[0m divide(\u001b[38;5;241m10\u001b[39m,\u001b[38;5;241m2\u001b[39m)\n\u001b[0;32m----> 2\u001b[0m \u001b[43mdivide\u001b[49m\u001b[43m(\u001b[49m\u001b[38;5;241;43m10\u001b[39;49m\u001b[43m,\u001b[49m\u001b[38;5;241;43m0\u001b[39;49m\u001b[43m)\u001b[49m\n\u001b[1;32m      3\u001b[0m divide(\u001b[38;5;241m10\u001b[39m,\u001b[38;5;241m4\u001b[39m)\n",
            "Cell \u001b[0;32mIn [53], line 2\u001b[0m, in \u001b[0;36mdivide\u001b[0;34m(x, y)\u001b[0m\n\u001b[1;32m      1\u001b[0m \u001b[38;5;28;01mdef\u001b[39;00m \u001b[38;5;21mdivide\u001b[39m(x,y):\n\u001b[0;32m----> 2\u001b[0m     \u001b[38;5;28mprint\u001b[39m(\u001b[43mx\u001b[49m\u001b[38;5;241;43m/\u001b[39;49m\u001b[43my\u001b[49m)\n",
            "\u001b[0;31mZeroDivisionError\u001b[0m: division by zero"
          ]
        }
      ],
      "source": [
        "divide(10,2)\n",
        "divide(10,0)\n",
        "divide(10,4)"
      ]
    },
    {
      "cell_type": "code",
      "execution_count": null,
      "id": "5032957d-3216-4de0-8341-925d69ec7439",
      "metadata": {
        "id": "5032957d-3216-4de0-8341-925d69ec7439"
      },
      "outputs": [],
      "source": [
        "def divide(x,y):\n",
        "    try:\n",
        "        print(x/y)\n",
        "    except ZeroDivisionError as e:\n",
        "            print(e)"
      ]
    },
    {
      "cell_type": "code",
      "execution_count": null,
      "id": "a84356ed-4999-4933-a6bf-edfcb0e067b3",
      "metadata": {
        "id": "a84356ed-4999-4933-a6bf-edfcb0e067b3",
        "outputId": "b4794db9-2c5a-43d5-ba67-aa22af05b7df"
      },
      "outputs": [
        {
          "name": "stdout",
          "output_type": "stream",
          "text": [
            "5.0\n",
            "division by zero\n",
            "2.5\n"
          ]
        }
      ],
      "source": [
        "divide(10,2)\n",
        "divide(10,0)\n",
        "divide(10,4)"
      ]
    },
    {
      "cell_type": "code",
      "execution_count": null,
      "id": "179a9d8a-19c8-4bad-b023-d55b00d6ff6f",
      "metadata": {
        "id": "179a9d8a-19c8-4bad-b023-d55b00d6ff6f"
      },
      "outputs": [],
      "source": [
        "def divide(x,y):\n",
        "    try:\n",
        "        print(x/y)\n",
        "    except ZeroDivisionError as e:\n",
        "            print(e)\n",
        "    else:\n",
        "        print(\"from else block\")\n",
        "    finally:\n",
        "        print(\"from finally\")"
      ]
    },
    {
      "cell_type": "code",
      "execution_count": null,
      "id": "35fee2e6-466d-455f-922e-7677aac7d99f",
      "metadata": {
        "id": "35fee2e6-466d-455f-922e-7677aac7d99f",
        "outputId": "e0007031-eb74-4dac-fdb5-11e0120b5bb9"
      },
      "outputs": [
        {
          "name": "stdout",
          "output_type": "stream",
          "text": [
            "5.0\n",
            "from else block\n",
            "from finally\n",
            "division by zero\n",
            "from finally\n",
            "2.5\n",
            "from else block\n",
            "from finally\n"
          ]
        }
      ],
      "source": [
        "divide(10,2)\n",
        "divide(10,0)\n",
        "divide(10,4)"
      ]
    },
    {
      "cell_type": "code",
      "execution_count": null,
      "id": "95698d22-8515-41f5-a0f2-9a48c6330605",
      "metadata": {
        "id": "95698d22-8515-41f5-a0f2-9a48c6330605",
        "outputId": "9803e5b2-77ab-4e2b-c365-d2f0c049b7a4"
      },
      "outputs": [
        {
          "name": "stdout",
          "output_type": "stream",
          "text": [
            "outer try block\n",
            "nested try block\n",
            "outer except blocl\n",
            "division by zero\n"
          ]
        }
      ],
      "source": [
        "x=10\n",
        "y=0\n",
        "\n",
        "try:\n",
        "    print(\"outer try block\")\n",
        "    try:\n",
        "        print(\"nested try block\")\n",
        "        print(x/y)\n",
        "    except TypeError as te:\n",
        "        print(\"nested except block\")\n",
        "        print(te)\n",
        "except ZeroDivisionError as ze:\n",
        "    print(\"outer except blocl\")\n",
        "    print(ze)"
      ]
    },
    {
      "cell_type": "code",
      "execution_count": null,
      "id": "42d295b8-0b0b-4223-a163-df842abc49ae",
      "metadata": {
        "id": "42d295b8-0b0b-4223-a163-df842abc49ae"
      },
      "outputs": [],
      "source": [
        "def func1():\n",
        "    flag=True\n",
        "    while flag:\n",
        "        try:\n",
        "            a=int(input(\"enter the integres\"))\n",
        "            if type(a)==int:\n",
        "                return \"yes , you have entrted an integrer\"\n",
        "            flag=False\n",
        "        except Exception as e:\n",
        "            print(\"you did not entered an integer, please enter an integer\",e)"
      ]
    },
    {
      "cell_type": "code",
      "execution_count": null,
      "id": "d8410ca0-46d5-47e7-8868-0de1c11d79f9",
      "metadata": {
        "id": "d8410ca0-46d5-47e7-8868-0de1c11d79f9",
        "outputId": "6bb82d45-a631-4a7e-a1cd-3baf20248fd0"
      },
      "outputs": [
        {
          "name": "stdout",
          "output_type": "stream",
          "text": [
            "enter the integres k\n"
          ]
        },
        {
          "name": "stdout",
          "output_type": "stream",
          "text": [
            "you did not entered an integer, please enter an integer invalid literal for int() with base 10: 'k'\n"
          ]
        },
        {
          "name": "stdout",
          "output_type": "stream",
          "text": [
            "enter the integres 9\n"
          ]
        },
        {
          "data": {
            "text/plain": [
              "'yes , you have entrted an integrer'"
            ]
          },
          "execution_count": 71,
          "metadata": {},
          "output_type": "execute_result"
        }
      ],
      "source": [
        "func1()"
      ]
    },
    {
      "cell_type": "code",
      "execution_count": null,
      "id": "5216353d-c4f9-4da4-98fc-9b5fc53bfe7a",
      "metadata": {
        "id": "5216353d-c4f9-4da4-98fc-9b5fc53bfe7a",
        "outputId": "ac454118-4e0d-48cd-8c8f-1eabe1ad7306"
      },
      "outputs": [
        {
          "name": "stdout",
          "output_type": "stream",
          "text": [
            "there is issue with my code\n",
            "(4, 5, 6, 7, 8, 9)\n",
            "hi\n",
            "[4, 5, 6, 7, 8, 9]\n"
          ]
        }
      ],
      "source": [
        "try:\n",
        "    l=[4,5,6,7,8,9]\n",
        "    l[100]\n",
        "except:\n",
        "    print(\"there is issue with my code\")\n",
        "    t=(4,5,6,7,8,9)\n",
        "    print(t)\n",
        "    try:\n",
        "        print(\"hi\")\n",
        "        #t[0]=\"imran\"\n",
        "        try:\n",
        "            k=list(t)\n",
        "            print(k)\n",
        "        except:\n",
        "            pass\n",
        "    except:\n",
        "        pass\n",
        "else:\n",
        "    print(\"there is no issue with code\")"
      ]
    },
    {
      "cell_type": "code",
      "execution_count": null,
      "id": "85ef6bdf-c948-42c9-a4e1-98c32ce8692c",
      "metadata": {
        "id": "85ef6bdf-c948-42c9-a4e1-98c32ce8692c"
      },
      "outputs": [],
      "source": [
        "lets start at 5:47"
      ]
    },
    {
      "cell_type": "code",
      "execution_count": null,
      "id": "46a961f2-f626-4f1c-89be-3c5fbd74262e",
      "metadata": {
        "id": "46a961f2-f626-4f1c-89be-3c5fbd74262e"
      },
      "outputs": [],
      "source": [
        "l=[1,2,3,4,51,1,2,3,4,44]\n"
      ]
    },
    {
      "cell_type": "code",
      "execution_count": null,
      "id": "500f4208-2056-40da-879f-97866fb07d2d",
      "metadata": {
        "id": "500f4208-2056-40da-879f-97866fb07d2d",
        "outputId": "161ecd12-23df-4e9b-a547-c1add428f7e2"
      },
      "outputs": [
        {
          "name": "stdout",
          "output_type": "stream",
          "text": [
            "0\n",
            "1\n",
            "2\n",
            "3\n",
            "4\n",
            "5\n",
            "6\n",
            "7\n",
            "8\n"
          ]
        }
      ],
      "source": [
        "for i in range(9):\n",
        "    print(i)"
      ]
    },
    {
      "cell_type": "code",
      "execution_count": null,
      "id": "35563104-7efd-4487-bd78-b42a5ab7cf98",
      "metadata": {
        "id": "35563104-7efd-4487-bd78-b42a5ab7cf98"
      },
      "outputs": [],
      "source": []
    },
    {
      "cell_type": "code",
      "execution_count": null,
      "id": "d593a43a-26fd-4d0b-827e-f9aef21d647d",
      "metadata": {
        "id": "d593a43a-26fd-4d0b-827e-f9aef21d647d",
        "outputId": "aa1011d0-a6d3-4d56-ab10-aa8f89d0fed7"
      },
      "outputs": [
        {
          "name": "stdout",
          "output_type": "stream",
          "text": [
            "1\n",
            "2\n",
            "3\n",
            "4\n",
            "51\n",
            "1\n",
            "2\n",
            "3\n",
            "4\n",
            "44\n"
          ]
        }
      ],
      "source": [
        "for i in range(len(l)):\n",
        "    print(l[i])\n"
      ]
    },
    {
      "cell_type": "code",
      "execution_count": null,
      "id": "76d6d128-9708-4b89-9041-afe542d9dd58",
      "metadata": {
        "id": "76d6d128-9708-4b89-9041-afe542d9dd58",
        "outputId": "8558a043-7be4-4339-e85b-c38a0adcb224"
      },
      "outputs": [
        {
          "ename": "IndexError",
          "evalue": "list index out of range",
          "output_type": "error",
          "traceback": [
            "\u001b[0;31m---------------------------------------------------------------------------\u001b[0m",
            "\u001b[0;31mIndexError\u001b[0m                                Traceback (most recent call last)",
            "Cell \u001b[0;32mIn [81], line 2\u001b[0m\n\u001b[1;32m      1\u001b[0m l\u001b[38;5;241m=\u001b[39m[\u001b[38;5;241m4\u001b[39m,\u001b[38;5;241m5\u001b[39m,\u001b[38;5;241m6\u001b[39m,\u001b[38;5;241m7\u001b[39m,\u001b[38;5;241m8\u001b[39m,\u001b[38;5;241m9\u001b[39m]\n\u001b[0;32m----> 2\u001b[0m \u001b[43ml\u001b[49m\u001b[43m[\u001b[49m\u001b[38;5;241;43m100\u001b[39;49m\u001b[43m]\u001b[49m\n",
            "\u001b[0;31mIndexError\u001b[0m: list index out of range"
          ]
        }
      ],
      "source": [
        "l=[4,5,6,7,8,9]\n",
        "l[100]"
      ]
    }
  ],
  "metadata": {
    "colab": {
      "provenance": []
    },
    "kernelspec": {
      "display_name": "Python 3 (ipykernel)",
      "language": "python",
      "name": "python3"
    },
    "language_info": {
      "codemirror_mode": {
        "name": "ipython",
        "version": 3
      },
      "file_extension": ".py",
      "mimetype": "text/x-python",
      "name": "python",
      "nbconvert_exporter": "python",
      "pygments_lexer": "ipython3",
      "version": "3.11.5"
    }
  },
  "nbformat": 4,
  "nbformat_minor": 5
}
